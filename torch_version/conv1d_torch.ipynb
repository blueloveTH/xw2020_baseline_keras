{
 "metadata": {
  "language_info": {
   "codemirror_mode": {
    "name": "ipython",
    "version": 3
   },
   "file_extension": ".py",
   "mimetype": "text/x-python",
   "name": "python",
   "nbconvert_exporter": "python",
   "pygments_lexer": "ipython3",
   "version": "3.7.8-final"
  },
  "orig_nbformat": 2,
  "kernelspec": {
   "name": "python37864bittorchmainvenvbe42c57e133c49b8bfc1a6b4d0ffa2f6",
   "display_name": "Python 3.7.8 64-bit ('torch_main': venv)"
  }
 },
 "nbformat": 4,
 "nbformat_minor": 2,
 "cells": [
  {
   "cell_type": "code",
   "execution_count": null,
   "metadata": {
    "tags": []
   },
   "outputs": [],
   "source": [
    "import torch\n",
    "import numpy as np\n",
    "from preprocess import get_train_test_data\n",
    "from torch.utils.data import DataLoader, TensorDataset\n",
    "from sklearn.model_selection import train_test_split\n",
    "import torch.nn.functional as F\n",
    "from torchsummary import summary\n",
    "\n",
    "train_data, train_labels, test_data = get_train_test_data()\n",
    "train_data = torch.as_tensor(train_data, dtype=torch.float32)\n",
    "test_data = torch.as_tensor(test_data, dtype=torch.float32)\n",
    "train_labels = torch.as_tensor(train_labels, dtype=torch.int64)\n",
    "\n",
    "#train_labels = F.one_hot(train_labels, num_classes=19)"
   ]
  },
  {
   "cell_type": "code",
   "execution_count": null,
   "metadata": {},
   "outputs": [],
   "source": [
    "train_data = train_data.transpose(1, 2)\n",
    "test_data = test_data.transpose(1, 2)\n",
    "train_data.shape"
   ]
  },
  {
   "cell_type": "code",
   "execution_count": null,
   "metadata": {},
   "outputs": [],
   "source": [
    "class LayerNorm1D(torch.nn.Module):     # pass\n",
    "    def __init__(self, filters):\n",
    "        super(LayerNorm1D, self).__init__()\n",
    "        self.ln = torch.nn.LayerNorm(filters)\n",
    "\n",
    "    def forward(self, x):\n",
    "        x = x.transpose(1, 2)\n",
    "        x = self.ln(x)\n",
    "        return x.transpose(1, 2)"
   ]
  },
  {
   "cell_type": "code",
   "execution_count": null,
   "metadata": {},
   "outputs": [],
   "source": [
    "class res_block(torch.nn.Module):\n",
    "    def __init__(self, C, L, filters, kernal_size):\n",
    "        super(res_block, self).__init__()\n",
    "\n",
    "        self.conv1d = torch.nn.Sequential(\n",
    "            torch.nn.Conv1d(C, filters, 1),\n",
    "            torch.nn.ReLU(), LayerNorm1D(filters),\n",
    "\n",
    "            torch.nn.Conv1d(filters, filters, kernal_size, padding=kernal_size//2),\n",
    "            torch.nn.ReLU(), LayerNorm1D(filters),\n",
    "\n",
    "            torch.nn.Conv1d(filters, filters, 1),\n",
    "            torch.nn.ReLU(), LayerNorm1D(filters),\n",
    "        )\n",
    "\n",
    "        self.shortcut = torch.nn.Conv1d(C, filters, 1)\n",
    "    \n",
    "    def forward(self, x):\n",
    "        return self.conv1d(x) + self.shortcut(x)\n",
    "\n",
    "class inception_block(torch.nn.Module):\n",
    "    def __init__(self, filters=128, kernal_size=5):\n",
    "        super(inception_block, self).__init__()\n",
    "\n",
    "        self.output_shape = filters // 2\n",
    "\n",
    "        self.block = torch.nn.Sequential(\n",
    "            res_block(8, 61, filters, kernal_size),\n",
    "            torch.nn.MaxPool1d(2, 2),       # pass\n",
    "            torch.nn.Dropout2d(0.3),        # pass\n",
    "            res_block(128, 30, filters//2, kernal_size),\n",
    "            torch.nn.AdaptiveAvgPool1d(1),  # pass\n",
    "        )\n",
    "\n",
    "    def forward(self, x):\n",
    "        x = self.block(x)\n",
    "        return x.squeeze(-1)"
   ]
  },
  {
   "cell_type": "code",
   "execution_count": null,
   "metadata": {},
   "outputs": [],
   "source": [
    "class ComplexConv1D(torch.nn.Module):\n",
    "    def __init__(self):\n",
    "        super(ComplexConv1D, self).__init__()\n",
    "\n",
    "        self.seq_3 = inception_block(kernal_size=3)\n",
    "        self.seq_5 = inception_block(kernal_size=5)\n",
    "        self.seq_7 = inception_block(kernal_size=7)\n",
    "        \n",
    "        dense_in_size = self.seq_3.output_shape + self.seq_5.output_shape + self.seq_7.output_shape\n",
    "\n",
    "        self.dense = torch.nn.Sequential(\n",
    "            torch.nn.Linear(dense_in_size, 512), torch.nn.ReLU(), torch.nn.Dropout(0.3),\n",
    "            torch.nn.Linear(512, 128), torch.nn.ReLU(), torch.nn.Dropout(0.3),\n",
    "            torch.nn.Linear(128, 19)\n",
    "        )\n",
    "\n",
    "    def forward(self, x):\n",
    "        x = torch.cat([self.seq_3(x), self.seq_5(x), self.seq_7(x)], axis=-1)\n",
    "        return self.dense(x)"
   ]
  },
  {
   "cell_type": "code",
   "execution_count": null,
   "metadata": {
    "tags": []
   },
   "outputs": [],
   "source": [
    "x_train, x_val, y_train, y_val = train_test_split(train_data, train_labels,\n",
    "                        test_size=0.2, random_state=7)\n",
    "x_train.shape, x_val.shape, y_train.shape, y_val.shape"
   ]
  },
  {
   "cell_type": "code",
   "execution_count": null,
   "metadata": {
    "tags": []
   },
   "outputs": [],
   "source": [
    "from ignite.engine import Events, create_supervised_trainer, create_supervised_evaluator\n",
    "from ignite.metrics import Accuracy, Loss\n",
    "from ignite.contrib.handlers.param_scheduler import LRScheduler\n",
    "\n",
    "train_loader = DataLoader(TensorDataset(x_train, y_train), batch_size=64, shuffle=True)\n",
    "val_loader = DataLoader(TensorDataset(x_val, y_val), batch_size=64, shuffle=False)\n",
    "#test_loader = DataLoader(TensorDataset(test_data, None), batch_size=64, shuffle=False)\n",
    "\n",
    "def scheduler(epoch):\n",
    "    if epoch < 30:\n",
    "        rate = 1.0\n",
    "    elif epoch >= 30 and epoch < 45:\n",
    "        rate = 0.3\n",
    "    elif epoch >= 45:\n",
    "        rate = 0.3**2\n",
    "    return rate\n",
    "\n",
    "def ce_loss(output, target):\n",
    "    #output = (1.0 - 1e-6) * output + 1e-7\n",
    "    eps = 0.1\n",
    "    c = output.shape[-1]\n",
    "    target = F.one_hot(target, c) * (1 - eps) + eps / c\n",
    "    log_preds = F.log_softmax(output, dim=-1)\n",
    "    return -(target * log_preds).sum(dim=-1).mean()\n",
    "\n",
    "model = ComplexConv1D().to(device='cuda')\n",
    "\n",
    "def weights_init(m):\n",
    "    if isinstance(m, torch.nn.Linear) or isinstance(m, torch.nn.Conv1d):\n",
    "        torch.nn.init.xavier_uniform_(m.weight.data)\n",
    "        torch.nn.init.zeros_(m.bias.data)\n",
    "model.apply(weights_init)\n",
    "\n",
    "optimizer = torch.optim.Adam(model.parameters(), lr=1e-3)\n",
    "loss_fn = ce_loss\n",
    "\n",
    "lr_scheduler = LRScheduler(\n",
    "    torch.optim.lr_scheduler.LambdaLR(optimizer, lr_lambda=scheduler)\n",
    ")\n",
    "\n",
    "trainer = create_supervised_trainer(model, optimizer, loss_fn, device='cuda')\n",
    "\n",
    "evaluator = create_supervised_evaluator(model,\n",
    "        {'acc': Accuracy(), 'loss': Loss(loss_fn)}, device='cuda')\n",
    "\n",
    "# summary(model, input_size=(8, 61))"
   ]
  },
  {
   "cell_type": "code",
   "execution_count": null,
   "metadata": {
    "tags": []
   },
   "outputs": [],
   "source": [
    "@trainer.on(Events.EPOCH_COMPLETED)\n",
    "def on_epoch_end():\n",
    "    str1 = log_training_results(trainer)\n",
    "    str2 = log_validation_results(trainer)\n",
    "    print(str1 + ' - ' + str2 + ' - lr: ' + '%.1e' % optimizer.param_groups[0]['lr'])\n",
    "    lr_scheduler(trainer)\n",
    "\n",
    "def log_training_results(trainer):\n",
    "    evaluator.run(train_loader)\n",
    "    metrics = evaluator.state.metrics\n",
    "    return (\"Epoch {}/{} - loss: {:.4f} - acc: {:.4f}\"\n",
    "        .format(trainer.state.epoch, trainer.state.max_epochs, metrics[\"loss\"], metrics[\"acc\"]))\n",
    "\n",
    "def log_validation_results(trainer):\n",
    "    evaluator.run(val_loader)\n",
    "    metrics = evaluator.state.metrics\n",
    "    return (\"val_loss: {:.4f} - val_acc: {:.4f}\".format(metrics[\"loss\"], metrics[\"acc\"]))\n",
    "\n",
    "import time\n",
    "\n",
    "start = time.time()\n",
    "\n",
    "trainer.run(train_loader, max_epochs=55)\n",
    "\n",
    "time.time() - start"
   ]
  },
  {
   "cell_type": "code",
   "execution_count": null,
   "metadata": {},
   "outputs": [],
   "source": []
  }
 ]
}