{
 "cells": [
  {
   "cell_type": "code",
   "execution_count": null,
   "metadata": {
    "tags": []
   },
   "outputs": [],
   "source": [
    "import tensorflow as tf\n",
    "import numpy as np\n",
    "from tensorflow import keras\n",
    "from utils import *\n",
    "from models import *\n",
    "from preprocess import *\n",
    "\n",
    "# 导入精心挑选的pseudo labels\n",
    "train_data, train_labels, test_data = get_train_test_data(pseudo_labels_file=\n",
    "                                                'dataset/pseudo_train_2756.csv')\n",
    "# 设置数据增强方式 (noise, mixup or both)\n",
    "set_data_enhance(['noise'])"
   ]
  },
  {
   "cell_type": "code",
   "execution_count": null,
   "metadata": {},
   "outputs": [],
   "source": [
    "# 转换成float32节省显存，以及one_hot编码\n",
    "train_data = tf.cast(train_data, tf.float32).numpy()\n",
    "train_labels = tf.one_hot(train_labels, num_classes).numpy()"
   ]
  },
  {
   "cell_type": "code",
   "execution_count": null,
   "metadata": {
    "tags": []
   },
   "outputs": [],
   "source": [
    "# 训练\n",
    "histories, evals = kfcv_fit(builder=lambda : ComplexConv1D(train_data.shape, 19),\n",
    "                                x=train_data, y=train_labels,\n",
    "                                epochs=40,\n",
    "                                checkpoint_path = './models/conv1d/',\n",
    "                                batch_size=64\n",
    "                                )"
   ]
  },
  {
   "cell_type": "code",
   "execution_count": null,
   "metadata": {
    "tags": []
   },
   "outputs": [],
   "source": [
    "# 评估\n",
    "kfcv_evaluate('conv1d', train_data, train_labels)"
   ]
  },
  {
   "cell_type": "code",
   "execution_count": null,
   "metadata": {
    "tags": []
   },
   "outputs": [],
   "source": [
    "# 推断\n",
    "infer('conv1d', get_test_data(), 'result.csv')"
   ]
  },
  {
   "cell_type": "code",
   "execution_count": null,
   "metadata": {},
   "outputs": [],
   "source": []
  }
 ],
 "metadata": {
  "kernelspec": {
   "display_name": "Python 3.7.7 64-bit ('tf_main': venv)",
   "language": "python",
   "name": "python_defaultSpec_1596433119415"
  },
  "language_info": {
   "codemirror_mode": {
    "name": "ipython",
    "version": 3
   },
   "file_extension": ".py",
   "mimetype": "text/x-python",
   "name": "python",
   "nbconvert_exporter": "python",
   "pygments_lexer": "ipython3",
   "version": "3.7.4"
  }
 },
 "nbformat": 4,
 "nbformat_minor": 4
}